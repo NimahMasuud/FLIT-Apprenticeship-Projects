{
  "cells": [
    {
      "cell_type": "markdown",
      "id": "fefbf19a",
      "metadata": {
        "id": "fefbf19a"
      },
      "source": [
        "## Market Basket Analysis\n",
        "\n",
        "### Introduction\n",
        "### Data Preparation\n",
        "### Exploratory Data Analysis(Visualization)\n",
        "### Insights\n",
        "### Recommendation and Conclusion"
      ]
    },
    {
      "cell_type": "markdown",
      "id": "d4108432",
      "metadata": {
        "id": "d4108432"
      },
      "source": [
        "# Introduction"
      ]
    },
    {
      "cell_type": "markdown",
      "id": "9a1e788f",
      "metadata": {
        "id": "9a1e788f"
      },
      "source": [
        "\n",
        " ### Overview\n",
        "\n",
        "This project harnesses Market Basket Analysis techniques in Python to derive meaningful insights from transactional data. The primary objective is to comprehend customer buying behaviors, reveal connections between various products, and extract actionable intelligence to enhance targeted marketing strategies.\n",
        "\n",
        "### Key Features\n",
        "\n",
        "#### Feature Engineering\n",
        "\n",
        "Utilizing Python, the dataset undergoes feature engineering, primarily involving the consolidation of items per customer per day into 'CustomerTransaction' baskets.\n",
        "\n",
        "\n",
        "#### Data Exploration\n",
        "\n",
        "The exploration phase delves into understanding the dataset's structure and characteristics. Below is an example of exploring key columns:\n",
        "\n",
        "\n",
        "Summary statistics for 'Member_Number', 'ItemDescription', and 'Date'\n",
        "\n",
        "\n",
        "#### Apriori Algorithm\n",
        "\n",
        "Application of the Apriori algorithm to unveil frequent itemsets that serve as the foundation for generating association rules:\n",
        "\n",
        "from mlxtend.frequent_patterns import apriori, association_rules\n",
        "\n",
        "# Generating frequent itemsets\n",
        "frequent_itemsets = apriori(data, min_support=0.03, use_colnames=True)\n",
        "\n",
        "# Generating association rules\n",
        "rules = association_rules(frequent_itemsets, metric='lift', min_threshold=1)\n",
        "\n",
        "\n",
        "### Research Questions\n",
        "\n",
        "### Transaction Frequency:\n",
        "\n",
        "What is the overall distribution of transaction frequencies per Member_number?\n",
        "How does the transaction frequency vary over different dates or time periods?\n",
        "Can we identify any seasonality or trends in transaction counts?\n",
        "\n",
        "### Popular Products:\n",
        "What are the most frequently purchased items across all transactions?\n",
        "How do the sales of different items vary over time?\n",
        "\n",
        "### Association Rules and Product Co-occurrences:\n",
        "What are the most common item combinations purchased together by Member_number?\n",
        "Can we identify any significant patterns or associations between specific items in transactions?\n",
        "How strong are the relationships between different itemDescription pairs?\n",
        "\n"
      ]
    },
    {
      "cell_type": "markdown",
      "id": "b7645e15",
      "metadata": {
        "id": "b7645e15"
      },
      "source": [
        "### General Findings and Insights\n",
        "\n",
        "1.The plot showcases how transaction frequency fluctuates over time. It reveal recurring patterns, such as daily, weekly, or monthly trends in transaction volumes. For instance, I observed regular peaks during weekends or specific days of the week.\n",
        "\n",
        "2.I observe the periods of increased/decreased in transaction activity which indicate seasonal trends. These trends correspond to holiday seasons, promotional events, or certain months where sales are consistently higher or lower.\n",
        "\n",
        "3.The plot showcases the number of items sold per month, allowing for the observation of any trends or fluctuations in sales over the months. It helps in understanding which months witness higher or lower sales volumes.\n",
        "\n",
        "4.Identifying peaks or drops in item sales across different months can indicate seasonal patterns. For instance, There was higher sales in of months January and August correspond to holiday seasons or promotional periods, while lower sales align with quieter business periods.\n",
        "\n",
        "5.The plot shows the number of items sold per week,I observed the sales trends at a more granular level. This granularity reveal short-term fluctuations or patterns that might not be visible at a monthly level.\n",
        "\n",
        "\n",
        "\n",
        "\n",
        "#### Recommendation/Conclusion:\n",
        "The utilization of the Apriori algorithm for market basket analysis on our retail dataset has yielded valuable insights.its shows the ease of implementation and interpretation, it has empowered us to derive meaningful association rules. These rules shed light on customer purchase behaviors, unveiling valuable connections between products frequently bought together.\n",
        "\n",
        "The insights derived from this analysis offer a data-driven foundation for making strategic marketing decisions. By understanding which products tend to co-occur in customer transactions, by Leveraging these findings, we can tailor our marketing campaigns, product placement strategies, and promotions to better cater to customer preferences and enhance their shopping experience.\n",
        "\n"
      ]
    }
  ],
  "metadata": {
    "kernelspec": {
      "display_name": "Python 3 (ipykernel)",
      "language": "python",
      "name": "python3"
    },
    "language_info": {
      "codemirror_mode": {
        "name": "ipython",
        "version": 3
      },
      "file_extension": ".py",
      "mimetype": "text/x-python",
      "name": "python",
      "nbconvert_exporter": "python",
      "pygments_lexer": "ipython3",
      "version": "3.11.5"
    },
    "colab": {
      "provenance": []
    }
  },
  "nbformat": 4,
  "nbformat_minor": 5
}